{
  "nbformat": 4,
  "nbformat_minor": 0,
  "metadata": {
    "kernelspec": {
      "display_name": "Python 3",
      "language": "python",
      "name": "python3"
    },
    "language_info": {
      "codemirror_mode": {
        "name": "ipython",
        "version": 3
      },
      "file_extension": ".py",
      "mimetype": "text/x-python",
      "name": "python",
      "nbconvert_exporter": "python",
      "pygments_lexer": "ipython3",
      "version": "3.7.3"
    },
    "colab": {
      "name": "building_api_automation_in_python_(1) (1).ipynb",
      "provenance": []
    }
  },
  "cells": [
    {
      "cell_type": "code",
      "metadata": {
        "id": "488HLJq8vVKN"
      },
      "source": [
        "import requests\n",
        "import io"
      ],
      "execution_count": 3,
      "outputs": []
    },
    {
      "cell_type": "code",
      "metadata": {
        "id": "3qwkvdS66ZkY",
        "colab": {
          "base_uri": "https://localhost:8080/"
        },
        "outputId": "46aa60a5-2a2c-4c9f-9a4f-d857554e82a9"
      },
      "source": [
        "from google.colab import drive\r\n",
        "\r\n",
        "drive.mount(\"/content/drive\")"
      ],
      "execution_count": 4,
      "outputs": [
        {
          "output_type": "stream",
          "text": [
            "Mounted at /content/drive\n"
          ],
          "name": "stdout"
        }
      ]
    },
    {
      "cell_type": "code",
      "metadata": {
        "id": "_bx4d4kI7A6C"
      },
      "source": [
        "#To check mounting my drive worked\r\n",
        "#!ls -ltr /content/drive/My\\ Drive/\r\n"
      ],
      "execution_count": 5,
      "outputs": []
    },
    {
      "cell_type": "code",
      "metadata": {
        "id": "KEvdVb3evVKT"
      },
      "source": [
        "import pandas as pd"
      ],
      "execution_count": 7,
      "outputs": []
    },
    {
      "cell_type": "code",
      "metadata": {
        "id": "DdvSqG2-vVKX"
      },
      "source": [
        "all_breed_response = requests.get(\"https://dog.ceo/api/breeds/list/all\")\r\n",
        "#Sending an API request to get a list of all the breeds"
      ],
      "execution_count": 8,
      "outputs": []
    },
    {
      "cell_type": "code",
      "metadata": {
        "id": "9lJ2YqBfvVKX"
      },
      "source": [
        "all_breed_response.json()\r\n",
        "#To show a list of the dog breeds"
      ],
      "execution_count": null,
      "outputs": []
    },
    {
      "cell_type": "code",
      "metadata": {
        "id": "ixOqeyl6vVKb"
      },
      "source": [
        "a=all_breed_response.json()\r\n",
        "import json\r\n",
        "df=pd.DataFrame(a)\r\n",
        "from pprint import pprint\r\n",
        "pprint (a)\r\n",
        "# We save the list of all dog breeds before saving the list to a CSV file\r\n"
      ],
      "execution_count": null,
      "outputs": []
    },
    {
      "cell_type": "code",
      "metadata": {
        "id": "LK2Du2mj4heA"
      },
      "source": [
        "df.to_csv(\"/content/drive/My Drive/Projects/List_of_dog_breeds.csv\")\r\n",
        "#We save the data in the CSV file on my google drive"
      ],
      "execution_count": 16,
      "outputs": []
    },
    {
      "cell_type": "code",
      "metadata": {
        "id": "a9TPnuQxN2E6"
      },
      "source": [
        "for v in a[\"message\"]:\r\n",
        "\r\n",
        "  if v==\"retriever\":\r\n",
        "    print (v)\r\n",
        "\r\n",
        "    #We loop over the list of dog breeds to check if Retriever is part of the list"
      ],
      "execution_count": null,
      "outputs": []
    },
    {
      "cell_type": "code",
      "metadata": {
        "id": "mjvubKd3vVKc"
      },
      "source": [
        "retriever_sub_breeds = requests.get(\"https://dog.ceo/api/breed/retriever/list\")\r\n",
        "#We send an API request to to produce a list of Sub-breeds for \"Retriever\""
      ],
      "execution_count": 18,
      "outputs": []
    },
    {
      "cell_type": "code",
      "metadata": {
        "id": "5k9TeirdvVKc"
      },
      "source": [
        "retriever_sub_breeds.json()\r\n",
        "#Used to show the results of the Retriever Sub-breeds"
      ],
      "execution_count": null,
      "outputs": []
    },
    {
      "cell_type": "code",
      "metadata": {
        "id": "5_r13aIYvVKd"
      },
      "source": [
        "retriever_golden = requests.get(\"https://dog.ceo/api/breed/retriever/golden/images/random\")\r\n",
        "#We send an API request to to produce a random image for the sub-breed golden"
      ],
      "execution_count": 21,
      "outputs": []
    },
    {
      "cell_type": "code",
      "metadata": {
        "id": "8XRXzILMvVKd",
        "colab": {
          "base_uri": "https://localhost:8080/"
        },
        "outputId": "9dd9764a-66bd-4b49-f696-ad0d4398b545"
      },
      "source": [
        "retriever_golden.json()\r\n",
        "#Used to show the results of the random image"
      ],
      "execution_count": 22,
      "outputs": [
        {
          "output_type": "execute_result",
          "data": {
            "text/plain": [
              "{'message': 'https://images.dog.ceo/breeds/retriever-golden/n02099601_3097.jpg',\n",
              " 'status': 'success'}"
            ]
          },
          "metadata": {
            "tags": []
          },
          "execution_count": 22
        }
      ]
    },
    {
      "cell_type": "code",
      "metadata": {
        "id": "qpP_QIB9vVKd"
      },
      "source": [
        ""
      ],
      "execution_count": null,
      "outputs": []
    },
    {
      "cell_type": "markdown",
      "metadata": {
        "id": "vSdVeE3yvVKd"
      },
      "source": [
        "Seems to use the http://www.way2automation.com/angularjs-protractor/webtables/ you need to register. This we will do with Kizzo"
      ]
    },
    {
      "cell_type": "code",
      "metadata": {
        "id": "nEUHn4ecvVKe"
      },
      "source": [
        ""
      ],
      "execution_count": 14,
      "outputs": []
    }
  ]
}