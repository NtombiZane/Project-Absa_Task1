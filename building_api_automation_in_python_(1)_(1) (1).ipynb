{
  "nbformat": 4,
  "nbformat_minor": 0,
  "metadata": {
    "kernelspec": {
      "display_name": "Python 3",
      "language": "python",
      "name": "python3"
    },
    "language_info": {
      "codemirror_mode": {
        "name": "ipython",
        "version": 3
      },
      "file_extension": ".py",
      "mimetype": "text/x-python",
      "name": "python",
      "nbconvert_exporter": "python",
      "pygments_lexer": "ipython3",
      "version": "3.7.3"
    },
    "colab": {
      "name": "building_api_automation_in_python_(1) (1).ipynb",
      "provenance": []
    }
  },
  "cells": [
    {
      "cell_type": "code",
      "metadata": {
        "id": "488HLJq8vVKN"
      },
      "source": [
        "import requests\n",
        "import io"
      ],
      "execution_count": 24,
      "outputs": []
    },
    {
      "cell_type": "code",
      "metadata": {
        "id": "3qwkvdS66ZkY",
        "colab": {
          "base_uri": "https://localhost:8080/"
        },
        "outputId": "c45ecdf9-c9d6-482f-f956-b566ed302f2a"
      },
      "source": [
        "from google.colab import drive\r\n",
        "\r\n",
        "drive.mount(\"/content/drive\")"
      ],
      "execution_count": 25,
      "outputs": [
        {
          "output_type": "stream",
          "text": [
            "Drive already mounted at /content/drive; to attempt to forcibly remount, call drive.mount(\"/content/drive\", force_remount=True).\n"
          ],
          "name": "stdout"
        }
      ]
    },
    {
      "cell_type": "code",
      "metadata": {
        "id": "_bx4d4kI7A6C"
      },
      "source": [
        "#To check mounting my drive worked\r\n",
        "#!ls -ltr /content/drive/My\\ Drive/\r\n"
      ],
      "execution_count": 26,
      "outputs": []
    },
    {
      "cell_type": "code",
      "metadata": {
        "id": "KEvdVb3evVKT"
      },
      "source": [
        "import pandas as pd"
      ],
      "execution_count": 27,
      "outputs": []
    },
    {
      "cell_type": "code",
      "metadata": {
        "id": "DdvSqG2-vVKX"
      },
      "source": [
        "all_breed_response = requests.get(\"https://dog.ceo/api/breeds/list/all\")\r\n",
        "#Sending an API request to get a list of all the breeds"
      ],
      "execution_count": 29,
      "outputs": []
    },
    {
      "cell_type": "code",
      "metadata": {
        "id": "9lJ2YqBfvVKX",
        "colab": {
          "base_uri": "https://localhost:8080/"
        },
        "outputId": "587ad2bb-28b5-4d27-cfd1-2375c762d08b"
      },
      "source": [
        "all_breed_response.json()\r\n",
        "#To show a list of the dog breeds"
      ],
      "execution_count": 30,
      "outputs": [
        {
          "output_type": "execute_result",
          "data": {
            "text/plain": [
              "{'message': {'affenpinscher': [],\n",
              "  'african': [],\n",
              "  'airedale': [],\n",
              "  'akita': [],\n",
              "  'appenzeller': [],\n",
              "  'australian': ['shepherd'],\n",
              "  'basenji': [],\n",
              "  'beagle': [],\n",
              "  'bluetick': [],\n",
              "  'borzoi': [],\n",
              "  'bouvier': [],\n",
              "  'boxer': [],\n",
              "  'brabancon': [],\n",
              "  'briard': [],\n",
              "  'buhund': ['norwegian'],\n",
              "  'bulldog': ['boston', 'english', 'french'],\n",
              "  'bullterrier': ['staffordshire'],\n",
              "  'cairn': [],\n",
              "  'cattledog': ['australian'],\n",
              "  'chihuahua': [],\n",
              "  'chow': [],\n",
              "  'clumber': [],\n",
              "  'cockapoo': [],\n",
              "  'collie': ['border'],\n",
              "  'coonhound': [],\n",
              "  'corgi': ['cardigan'],\n",
              "  'cotondetulear': [],\n",
              "  'dachshund': [],\n",
              "  'dalmatian': [],\n",
              "  'dane': ['great'],\n",
              "  'deerhound': ['scottish'],\n",
              "  'dhole': [],\n",
              "  'dingo': [],\n",
              "  'doberman': [],\n",
              "  'elkhound': ['norwegian'],\n",
              "  'entlebucher': [],\n",
              "  'eskimo': [],\n",
              "  'finnish': ['lapphund'],\n",
              "  'frise': ['bichon'],\n",
              "  'germanshepherd': [],\n",
              "  'greyhound': ['italian'],\n",
              "  'groenendael': [],\n",
              "  'havanese': [],\n",
              "  'hound': ['afghan',\n",
              "   'basset',\n",
              "   'blood',\n",
              "   'english',\n",
              "   'ibizan',\n",
              "   'plott',\n",
              "   'walker'],\n",
              "  'husky': [],\n",
              "  'keeshond': [],\n",
              "  'kelpie': [],\n",
              "  'komondor': [],\n",
              "  'kuvasz': [],\n",
              "  'labrador': [],\n",
              "  'leonberg': [],\n",
              "  'lhasa': [],\n",
              "  'malamute': [],\n",
              "  'malinois': [],\n",
              "  'maltese': [],\n",
              "  'mastiff': ['bull', 'english', 'tibetan'],\n",
              "  'mexicanhairless': [],\n",
              "  'mix': [],\n",
              "  'mountain': ['bernese', 'swiss'],\n",
              "  'newfoundland': [],\n",
              "  'otterhound': [],\n",
              "  'ovcharka': ['caucasian'],\n",
              "  'papillon': [],\n",
              "  'pekinese': [],\n",
              "  'pembroke': [],\n",
              "  'pinscher': ['miniature'],\n",
              "  'pitbull': [],\n",
              "  'pointer': ['german', 'germanlonghair'],\n",
              "  'pomeranian': [],\n",
              "  'poodle': ['miniature', 'standard', 'toy'],\n",
              "  'pug': [],\n",
              "  'puggle': [],\n",
              "  'pyrenees': [],\n",
              "  'redbone': [],\n",
              "  'retriever': ['chesapeake', 'curly', 'flatcoated', 'golden'],\n",
              "  'ridgeback': ['rhodesian'],\n",
              "  'rottweiler': [],\n",
              "  'saluki': [],\n",
              "  'samoyed': [],\n",
              "  'schipperke': [],\n",
              "  'schnauzer': ['giant', 'miniature'],\n",
              "  'setter': ['english', 'gordon', 'irish'],\n",
              "  'sheepdog': ['english', 'shetland'],\n",
              "  'shiba': [],\n",
              "  'shihtzu': [],\n",
              "  'spaniel': ['blenheim',\n",
              "   'brittany',\n",
              "   'cocker',\n",
              "   'irish',\n",
              "   'japanese',\n",
              "   'sussex',\n",
              "   'welsh'],\n",
              "  'springer': ['english'],\n",
              "  'stbernard': [],\n",
              "  'terrier': ['american',\n",
              "   'australian',\n",
              "   'bedlington',\n",
              "   'border',\n",
              "   'dandie',\n",
              "   'fox',\n",
              "   'irish',\n",
              "   'kerryblue',\n",
              "   'lakeland',\n",
              "   'norfolk',\n",
              "   'norwich',\n",
              "   'patterdale',\n",
              "   'russell',\n",
              "   'scottish',\n",
              "   'sealyham',\n",
              "   'silky',\n",
              "   'tibetan',\n",
              "   'toy',\n",
              "   'westhighland',\n",
              "   'wheaten',\n",
              "   'yorkshire'],\n",
              "  'vizsla': [],\n",
              "  'waterdog': ['spanish'],\n",
              "  'weimaraner': [],\n",
              "  'whippet': [],\n",
              "  'wolfhound': ['irish']},\n",
              " 'status': 'success'}"
            ]
          },
          "metadata": {
            "tags": []
          },
          "execution_count": 30
        }
      ]
    },
    {
      "cell_type": "code",
      "metadata": {
        "id": "ixOqeyl6vVKb",
        "colab": {
          "base_uri": "https://localhost:8080/"
        },
        "outputId": "f394aa10-cfbd-4d8b-a751-93b64a9a7d32"
      },
      "source": [
        "a=all_breed_response.json()\r\n",
        "import json\r\n",
        "df=pd.DataFrame(a)\r\n",
        "from pprint import pprint\r\n",
        "pprint (a)\r\n",
        "# We save the list of all dog breeds before saving the list to a CSV file\r\n"
      ],
      "execution_count": 31,
      "outputs": [
        {
          "output_type": "stream",
          "text": [
            "{'message': {'affenpinscher': [],\n",
            "             'african': [],\n",
            "             'airedale': [],\n",
            "             'akita': [],\n",
            "             'appenzeller': [],\n",
            "             'australian': ['shepherd'],\n",
            "             'basenji': [],\n",
            "             'beagle': [],\n",
            "             'bluetick': [],\n",
            "             'borzoi': [],\n",
            "             'bouvier': [],\n",
            "             'boxer': [],\n",
            "             'brabancon': [],\n",
            "             'briard': [],\n",
            "             'buhund': ['norwegian'],\n",
            "             'bulldog': ['boston', 'english', 'french'],\n",
            "             'bullterrier': ['staffordshire'],\n",
            "             'cairn': [],\n",
            "             'cattledog': ['australian'],\n",
            "             'chihuahua': [],\n",
            "             'chow': [],\n",
            "             'clumber': [],\n",
            "             'cockapoo': [],\n",
            "             'collie': ['border'],\n",
            "             'coonhound': [],\n",
            "             'corgi': ['cardigan'],\n",
            "             'cotondetulear': [],\n",
            "             'dachshund': [],\n",
            "             'dalmatian': [],\n",
            "             'dane': ['great'],\n",
            "             'deerhound': ['scottish'],\n",
            "             'dhole': [],\n",
            "             'dingo': [],\n",
            "             'doberman': [],\n",
            "             'elkhound': ['norwegian'],\n",
            "             'entlebucher': [],\n",
            "             'eskimo': [],\n",
            "             'finnish': ['lapphund'],\n",
            "             'frise': ['bichon'],\n",
            "             'germanshepherd': [],\n",
            "             'greyhound': ['italian'],\n",
            "             'groenendael': [],\n",
            "             'havanese': [],\n",
            "             'hound': ['afghan',\n",
            "                       'basset',\n",
            "                       'blood',\n",
            "                       'english',\n",
            "                       'ibizan',\n",
            "                       'plott',\n",
            "                       'walker'],\n",
            "             'husky': [],\n",
            "             'keeshond': [],\n",
            "             'kelpie': [],\n",
            "             'komondor': [],\n",
            "             'kuvasz': [],\n",
            "             'labrador': [],\n",
            "             'leonberg': [],\n",
            "             'lhasa': [],\n",
            "             'malamute': [],\n",
            "             'malinois': [],\n",
            "             'maltese': [],\n",
            "             'mastiff': ['bull', 'english', 'tibetan'],\n",
            "             'mexicanhairless': [],\n",
            "             'mix': [],\n",
            "             'mountain': ['bernese', 'swiss'],\n",
            "             'newfoundland': [],\n",
            "             'otterhound': [],\n",
            "             'ovcharka': ['caucasian'],\n",
            "             'papillon': [],\n",
            "             'pekinese': [],\n",
            "             'pembroke': [],\n",
            "             'pinscher': ['miniature'],\n",
            "             'pitbull': [],\n",
            "             'pointer': ['german', 'germanlonghair'],\n",
            "             'pomeranian': [],\n",
            "             'poodle': ['miniature', 'standard', 'toy'],\n",
            "             'pug': [],\n",
            "             'puggle': [],\n",
            "             'pyrenees': [],\n",
            "             'redbone': [],\n",
            "             'retriever': ['chesapeake', 'curly', 'flatcoated', 'golden'],\n",
            "             'ridgeback': ['rhodesian'],\n",
            "             'rottweiler': [],\n",
            "             'saluki': [],\n",
            "             'samoyed': [],\n",
            "             'schipperke': [],\n",
            "             'schnauzer': ['giant', 'miniature'],\n",
            "             'setter': ['english', 'gordon', 'irish'],\n",
            "             'sheepdog': ['english', 'shetland'],\n",
            "             'shiba': [],\n",
            "             'shihtzu': [],\n",
            "             'spaniel': ['blenheim',\n",
            "                         'brittany',\n",
            "                         'cocker',\n",
            "                         'irish',\n",
            "                         'japanese',\n",
            "                         'sussex',\n",
            "                         'welsh'],\n",
            "             'springer': ['english'],\n",
            "             'stbernard': [],\n",
            "             'terrier': ['american',\n",
            "                         'australian',\n",
            "                         'bedlington',\n",
            "                         'border',\n",
            "                         'dandie',\n",
            "                         'fox',\n",
            "                         'irish',\n",
            "                         'kerryblue',\n",
            "                         'lakeland',\n",
            "                         'norfolk',\n",
            "                         'norwich',\n",
            "                         'patterdale',\n",
            "                         'russell',\n",
            "                         'scottish',\n",
            "                         'sealyham',\n",
            "                         'silky',\n",
            "                         'tibetan',\n",
            "                         'toy',\n",
            "                         'westhighland',\n",
            "                         'wheaten',\n",
            "                         'yorkshire'],\n",
            "             'vizsla': [],\n",
            "             'waterdog': ['spanish'],\n",
            "             'weimaraner': [],\n",
            "             'whippet': [],\n",
            "             'wolfhound': ['irish']},\n",
            " 'status': 'success'}\n"
          ],
          "name": "stdout"
        }
      ]
    },
    {
      "cell_type": "code",
      "metadata": {
        "id": "LK2Du2mj4heA"
      },
      "source": [
        "df.to_csv(\"/content/drive/My Drive/Projects/List_of_dog_breeds.csv\")\r\n",
        "#We save the data in the CSV file on my google drive"
      ],
      "execution_count": 32,
      "outputs": []
    },
    {
      "cell_type": "code",
      "metadata": {
        "colab": {
          "base_uri": "https://localhost:8080/"
        },
        "id": "a9TPnuQxN2E6",
        "outputId": "324b881a-c798-4b92-d5ea-6520512bb28c"
      },
      "source": [
        "for v in a[\"message\"]:\r\n",
        "\r\n",
        "  if v==\"retriever\":\r\n",
        "    print (v)\r\n",
        "\r\n",
        "    #We loop over the list of dog breeds to check if Retriever is part of the list"
      ],
      "execution_count": 33,
      "outputs": [
        {
          "output_type": "stream",
          "text": [
            "retriever\n"
          ],
          "name": "stdout"
        }
      ]
    },
    {
      "cell_type": "code",
      "metadata": {
        "id": "mjvubKd3vVKc"
      },
      "source": [
        "retriever_sub_breeds = requests.get(\"https://dog.ceo/api/breed/retriever/list\")\r\n",
        "#We send an API request to to produce a list of Sub-breeds for \"Retriever\""
      ],
      "execution_count": 34,
      "outputs": []
    },
    {
      "cell_type": "code",
      "metadata": {
        "id": "5k9TeirdvVKc",
        "colab": {
          "base_uri": "https://localhost:8080/"
        },
        "outputId": "61fdb8ac-0078-41b1-e073-5187d684d80a"
      },
      "source": [
        "retriever_sub_breeds.json()\r\n",
        "#Used to show the results of the Retriever Sub-breeds"
      ],
      "execution_count": 35,
      "outputs": [
        {
          "output_type": "execute_result",
          "data": {
            "text/plain": [
              "{'message': ['chesapeake', 'curly', 'flatcoated', 'golden'],\n",
              " 'status': 'success'}"
            ]
          },
          "metadata": {
            "tags": []
          },
          "execution_count": 35
        }
      ]
    },
    {
      "cell_type": "code",
      "metadata": {
        "id": "5_r13aIYvVKd"
      },
      "source": [
        "retriever_golden = requests.get(\"https://dog.ceo/api/breed/retriever/golden/images/random\")\r\n",
        "#We send an API request to to produce a random image for the sub-breed golden"
      ],
      "execution_count": 36,
      "outputs": []
    },
    {
      "cell_type": "code",
      "metadata": {
        "id": "8XRXzILMvVKd",
        "colab": {
          "base_uri": "https://localhost:8080/"
        },
        "outputId": "4437ad5e-6cef-4ec2-b1aa-7bce0687f6c7"
      },
      "source": [
        "retriever_golden.json()\r\n",
        "#Used to show the results of the random image"
      ],
      "execution_count": 37,
      "outputs": [
        {
          "output_type": "execute_result",
          "data": {
            "text/plain": [
              "{'message': 'https://images.dog.ceo/breeds/retriever-golden/n02099601_2691.jpg',\n",
              " 'status': 'success'}"
            ]
          },
          "metadata": {
            "tags": []
          },
          "execution_count": 37
        }
      ]
    },
    {
      "cell_type": "code",
      "metadata": {
        "id": "qpP_QIB9vVKd"
      },
      "source": [
        ""
      ],
      "execution_count": null,
      "outputs": []
    },
    {
      "cell_type": "markdown",
      "metadata": {
        "id": "vSdVeE3yvVKd"
      },
      "source": [
        "Seems to use the http://www.way2automation.com/angularjs-protractor/webtables/ you need to register. This we will do with Kizzo"
      ]
    },
    {
      "cell_type": "code",
      "metadata": {
        "id": "nEUHn4ecvVKe"
      },
      "source": [
        ""
      ],
      "execution_count": 14,
      "outputs": []
    }
  ]
}