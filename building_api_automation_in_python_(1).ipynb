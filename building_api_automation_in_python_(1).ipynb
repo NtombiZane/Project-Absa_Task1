{
  "nbformat": 4,
  "nbformat_minor": 0,
  "metadata": {
    "kernelspec": {
      "display_name": "Python 3",
      "language": "python",
      "name": "python3"
    },
    "language_info": {
      "codemirror_mode": {
        "name": "ipython",
        "version": 3
      },
      "file_extension": ".py",
      "mimetype": "text/x-python",
      "name": "python",
      "nbconvert_exporter": "python",
      "pygments_lexer": "ipython3",
      "version": "3.7.3"
    },
    "colab": {
      "name": "building_api_automation_in_python (1).ipynb",
      "provenance": []
    }
  },
  "cells": [
    {
      "cell_type": "code",
      "metadata": {
        "id": "488HLJq8vVKN"
      },
      "source": [
        "import requests\n",
        "import io"
      ],
      "execution_count": 2,
      "outputs": []
    },
    {
      "cell_type": "code",
      "metadata": {
        "colab": {
          "base_uri": "https://localhost:8080/"
        },
        "id": "3qwkvdS66ZkY",
        "outputId": "54cf092c-3729-444f-ac17-558e3d8ca488"
      },
      "source": [
        "from google.colab import drive\r\n",
        "\r\n",
        "drive.mount(\"/content/drive\")"
      ],
      "execution_count": 5,
      "outputs": [
        {
          "output_type": "stream",
          "text": [
            "Mounted at /content/drive\n"
          ],
          "name": "stdout"
        }
      ]
    },
    {
      "cell_type": "code",
      "metadata": {
        "id": "_bx4d4kI7A6C"
      },
      "source": [
        "!ls -ltr /content/drive/My\\ Drive/"
      ],
      "execution_count": null,
      "outputs": []
    },
    {
      "cell_type": "code",
      "metadata": {
        "id": "KEvdVb3evVKT"
      },
      "source": [
        "from PIL import Image\n",
        "import matplotlib\n",
        "matplotlib.use(\"Agg\")\n",
        "# make the plots appear inline, using matplotlib magic\n",
        "%matplotlib inline\n",
        "import matplotlib.pyplot as plt\n",
        "import pandas as pd\n",
        "# import matplotlib\n",
        "# matplotlib.pyplot.ioff()"
      ],
      "execution_count": 8,
      "outputs": []
    },
    {
      "cell_type": "code",
      "metadata": {
        "id": "fZXyAeYmvVKU"
      },
      "source": [
        "breed_response = requests.get(\"https://dog.ceo/api/breeds/image/random\")"
      ],
      "execution_count": 9,
      "outputs": []
    },
    {
      "cell_type": "code",
      "metadata": {
        "colab": {
          "base_uri": "https://localhost:8080/"
        },
        "id": "bA4R2K5CvVKU",
        "outputId": "2b3f299d-fc9b-4326-bc9c-451d6c58fe98"
      },
      "source": [
        "breed_response"
      ],
      "execution_count": 10,
      "outputs": [
        {
          "output_type": "execute_result",
          "data": {
            "text/plain": [
              "<Response [200]>"
            ]
          },
          "metadata": {
            "tags": []
          },
          "execution_count": 10
        }
      ]
    },
    {
      "cell_type": "code",
      "metadata": {
        "colab": {
          "base_uri": "https://localhost:8080/"
        },
        "id": "mv64AHF6vVKW",
        "outputId": "1f3b6fc3-5282-4521-9839-42bbbcb18354"
      },
      "source": [
        "breed_response.json()"
      ],
      "execution_count": 11,
      "outputs": [
        {
          "output_type": "execute_result",
          "data": {
            "text/plain": [
              "{'message': 'https://images.dog.ceo/breeds/wolfhound-irish/n02090721_3763.jpg',\n",
              " 'status': 'success'}"
            ]
          },
          "metadata": {
            "tags": []
          },
          "execution_count": 11
        }
      ]
    },
    {
      "cell_type": "markdown",
      "metadata": {
        "id": "i9yi7OXtvVKW"
      },
      "source": [
        "Call requests.get(url) with url as the address of the object file to download via a GET request. Call io.BytesIO(obj) with obj as the content of the response to load the raw data as a bytes object. To load the image data, call PIL.Image.open(bytes_obj) with bytes_obj as the bytes object. To view them means they will lie completely in memory."
      ]
    },
    {
      "cell_type": "markdown",
      "metadata": {
        "id": "lLV-YMZvvVKW"
      },
      "source": [
        "### Testing this from bytes instead of doing a full image retrieval to your local disk"
      ]
    },
    {
      "cell_type": "code",
      "metadata": {
        "id": "WTl77MAsvVKX"
      },
      "source": [
        "img_url = breed_response.json()['message']\n",
        "response = requests.get(img_url)\n",
        "image_bytes = io.BytesIO(response.content)\n",
        "\n",
        "img = Image.open(image_bytes)\n",
        "img.show(img)"
      ],
      "execution_count": 12,
      "outputs": []
    },
    {
      "cell_type": "code",
      "metadata": {
        "id": "DdvSqG2-vVKX"
      },
      "source": [
        "all_breed_response = requests.get(\"https://dog.ceo/api/breeds/list/all\")"
      ],
      "execution_count": 13,
      "outputs": []
    },
    {
      "cell_type": "code",
      "metadata": {
        "id": "9lJ2YqBfvVKX"
      },
      "source": [
        "all_breed_response.json()"
      ],
      "execution_count": null,
      "outputs": []
    },
    {
      "cell_type": "code",
      "metadata": {
        "id": "ixOqeyl6vVKb",
        "colab": {
          "base_uri": "https://localhost:8080/"
        },
        "outputId": "e3091cd2-7ce7-4148-8858-3d8e9903cd5a"
      },
      "source": [
        "a=all_breed_response.json()\r\n",
        "import json\r\n",
        "df=pd.DataFrame(a)\r\n",
        "from pprint import pprint\r\n",
        "pprint (a)\r\n"
      ],
      "execution_count": 28,
      "outputs": [
        {
          "output_type": "stream",
          "text": [
            "{'message': {'affenpinscher': [],\n",
            "             'african': [],\n",
            "             'airedale': [],\n",
            "             'akita': [],\n",
            "             'appenzeller': [],\n",
            "             'australian': ['shepherd'],\n",
            "             'basenji': [],\n",
            "             'beagle': [],\n",
            "             'bluetick': [],\n",
            "             'borzoi': [],\n",
            "             'bouvier': [],\n",
            "             'boxer': [],\n",
            "             'brabancon': [],\n",
            "             'briard': [],\n",
            "             'buhund': ['norwegian'],\n",
            "             'bulldog': ['boston', 'english', 'french'],\n",
            "             'bullterrier': ['staffordshire'],\n",
            "             'cairn': [],\n",
            "             'cattledog': ['australian'],\n",
            "             'chihuahua': [],\n",
            "             'chow': [],\n",
            "             'clumber': [],\n",
            "             'cockapoo': [],\n",
            "             'collie': ['border'],\n",
            "             'coonhound': [],\n",
            "             'corgi': ['cardigan'],\n",
            "             'cotondetulear': [],\n",
            "             'dachshund': [],\n",
            "             'dalmatian': [],\n",
            "             'dane': ['great'],\n",
            "             'deerhound': ['scottish'],\n",
            "             'dhole': [],\n",
            "             'dingo': [],\n",
            "             'doberman': [],\n",
            "             'elkhound': ['norwegian'],\n",
            "             'entlebucher': [],\n",
            "             'eskimo': [],\n",
            "             'finnish': ['lapphund'],\n",
            "             'frise': ['bichon'],\n",
            "             'germanshepherd': [],\n",
            "             'greyhound': ['italian'],\n",
            "             'groenendael': [],\n",
            "             'havanese': [],\n",
            "             'hound': ['afghan',\n",
            "                       'basset',\n",
            "                       'blood',\n",
            "                       'english',\n",
            "                       'ibizan',\n",
            "                       'plott',\n",
            "                       'walker'],\n",
            "             'husky': [],\n",
            "             'keeshond': [],\n",
            "             'kelpie': [],\n",
            "             'komondor': [],\n",
            "             'kuvasz': [],\n",
            "             'labrador': [],\n",
            "             'leonberg': [],\n",
            "             'lhasa': [],\n",
            "             'malamute': [],\n",
            "             'malinois': [],\n",
            "             'maltese': [],\n",
            "             'mastiff': ['bull', 'english', 'tibetan'],\n",
            "             'mexicanhairless': [],\n",
            "             'mix': [],\n",
            "             'mountain': ['bernese', 'swiss'],\n",
            "             'newfoundland': [],\n",
            "             'otterhound': [],\n",
            "             'ovcharka': ['caucasian'],\n",
            "             'papillon': [],\n",
            "             'pekinese': [],\n",
            "             'pembroke': [],\n",
            "             'pinscher': ['miniature'],\n",
            "             'pitbull': [],\n",
            "             'pointer': ['german', 'germanlonghair'],\n",
            "             'pomeranian': [],\n",
            "             'poodle': ['miniature', 'standard', 'toy'],\n",
            "             'pug': [],\n",
            "             'puggle': [],\n",
            "             'pyrenees': [],\n",
            "             'redbone': [],\n",
            "             'retriever': ['chesapeake', 'curly', 'flatcoated', 'golden'],\n",
            "             'ridgeback': ['rhodesian'],\n",
            "             'rottweiler': [],\n",
            "             'saluki': [],\n",
            "             'samoyed': [],\n",
            "             'schipperke': [],\n",
            "             'schnauzer': ['giant', 'miniature'],\n",
            "             'setter': ['english', 'gordon', 'irish'],\n",
            "             'sheepdog': ['english', 'shetland'],\n",
            "             'shiba': [],\n",
            "             'shihtzu': [],\n",
            "             'spaniel': ['blenheim',\n",
            "                         'brittany',\n",
            "                         'cocker',\n",
            "                         'irish',\n",
            "                         'japanese',\n",
            "                         'sussex',\n",
            "                         'welsh'],\n",
            "             'springer': ['english'],\n",
            "             'stbernard': [],\n",
            "             'terrier': ['american',\n",
            "                         'australian',\n",
            "                         'bedlington',\n",
            "                         'border',\n",
            "                         'dandie',\n",
            "                         'fox',\n",
            "                         'irish',\n",
            "                         'kerryblue',\n",
            "                         'lakeland',\n",
            "                         'norfolk',\n",
            "                         'norwich',\n",
            "                         'patterdale',\n",
            "                         'russell',\n",
            "                         'scottish',\n",
            "                         'sealyham',\n",
            "                         'silky',\n",
            "                         'tibetan',\n",
            "                         'toy',\n",
            "                         'westhighland',\n",
            "                         'wheaten',\n",
            "                         'yorkshire'],\n",
            "             'vizsla': [],\n",
            "             'waterdog': ['spanish'],\n",
            "             'weimaraner': [],\n",
            "             'whippet': [],\n",
            "             'wolfhound': ['irish']},\n",
            " 'status': 'success'}\n"
          ],
          "name": "stdout"
        }
      ]
    },
    {
      "cell_type": "code",
      "metadata": {
        "id": "3_xQtVkW3sOc"
      },
      "source": [
        "df.head(50)"
      ],
      "execution_count": null,
      "outputs": []
    },
    {
      "cell_type": "code",
      "metadata": {
        "id": "LK2Du2mj4heA"
      },
      "source": [
        "df.to_csv(\"/content/drive/My Drive/Projects/List_of_dog_breeds.csv\")"
      ],
      "execution_count": 18,
      "outputs": []
    },
    {
      "cell_type": "code",
      "metadata": {
        "colab": {
          "base_uri": "https://localhost:8080/"
        },
        "id": "a9TPnuQxN2E6",
        "outputId": "4062bc65-4f1c-4376-8cd4-54ba480797a1"
      },
      "source": [
        "for v in a[\"message\"]:\r\n",
        "\r\n",
        "  if v==\"retriever\":\r\n",
        "    print (v)"
      ],
      "execution_count": 39,
      "outputs": [
        {
          "output_type": "stream",
          "text": [
            "retriever\n"
          ],
          "name": "stdout"
        }
      ]
    },
    {
      "cell_type": "code",
      "metadata": {
        "id": "mjvubKd3vVKc"
      },
      "source": [
        "retriever_sub_breeds = requests.get(\"https://dog.ceo/api/breed/retriever/list\")"
      ],
      "execution_count": 46,
      "outputs": []
    },
    {
      "cell_type": "code",
      "metadata": {
        "id": "5k9TeirdvVKc",
        "colab": {
          "base_uri": "https://localhost:8080/"
        },
        "outputId": "f3dd494c-58ee-43ae-f202-8006e995b982"
      },
      "source": [
        "retriever_sub_breeds.json()"
      ],
      "execution_count": 48,
      "outputs": [
        {
          "output_type": "execute_result",
          "data": {
            "text/plain": [
              "{'message': ['chesapeake', 'curly', 'flatcoated', 'golden'],\n",
              " 'status': 'success'}"
            ]
          },
          "metadata": {
            "tags": []
          },
          "execution_count": 48
        }
      ]
    },
    {
      "cell_type": "code",
      "metadata": {
        "id": "5_r13aIYvVKd"
      },
      "source": [
        "retriever_golden = requests.get(\"https://dog.ceo/api/breed/retriever/golden/images/random\")"
      ],
      "execution_count": 51,
      "outputs": []
    },
    {
      "cell_type": "code",
      "metadata": {
        "id": "8XRXzILMvVKd",
        "colab": {
          "base_uri": "https://localhost:8080/"
        },
        "outputId": "ddb56af8-b364-4580-f531-492f9bc3317e"
      },
      "source": [
        "retriever_golden.json()"
      ],
      "execution_count": 53,
      "outputs": [
        {
          "output_type": "execute_result",
          "data": {
            "text/plain": [
              "{'message': 'https://images.dog.ceo/breeds/retriever-golden/n02099601_9518.jpg',\n",
              " 'status': 'success'}"
            ]
          },
          "metadata": {
            "tags": []
          },
          "execution_count": 53
        }
      ]
    },
    {
      "cell_type": "code",
      "metadata": {
        "id": "qpP_QIB9vVKd"
      },
      "source": [
        ""
      ],
      "execution_count": null,
      "outputs": []
    },
    {
      "cell_type": "markdown",
      "metadata": {
        "id": "vSdVeE3yvVKd"
      },
      "source": [
        "Seems to use the http://www.way2automation.com/angularjs-protractor/webtables/ you need to register. This we will do with Kizzo"
      ]
    },
    {
      "cell_type": "code",
      "metadata": {
        "id": "nEUHn4ecvVKe"
      },
      "source": [
        ""
      ],
      "execution_count": null,
      "outputs": []
    }
  ]
}